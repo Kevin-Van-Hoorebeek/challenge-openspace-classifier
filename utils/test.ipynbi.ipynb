{
 "cells": [
  {
   "cell_type": "code",
   "execution_count": 2,
   "metadata": {},
   "outputs": [],
   "source": [
    "class Seat:\n",
    "\n",
    "    def __init__(self):\n",
    "        self.free = True        \n",
    "        self.occupant = \"\"\n",
    "    \n",
    "    def set_occupant(self,name):\n",
    "        self.free = False\n",
    "        self.occupant = name\n",
    "   \n",
    "    def remove_occuptant(self):\n",
    "        self.free = True\n",
    "        self.occupant = \"\"\n",
    "\n",
    "    seat_1 = seat()\n"
   ]
  },
  {
   "cell_type": "code",
   "execution_count": 5,
   "metadata": {},
   "outputs": [],
   "source": [
    "from table import Table\n",
    "import random\n",
    "def organize(names): # assign seats at random till seats are filled up\n",
    "    random_names = random.shuffle(names)\n",
    "    number_of_tables = 6\n",
    "    number_of_tables_list = [Table(i) for i in range(number_of_tables)]\n",
    "    random_names.assign_seat in number_of_tables_list\n",
    "    return number_of_tables_list"
   ]
  }
 ],
 "metadata": {
  "kernelspec": {
   "display_name": "Python 3",
   "language": "python",
   "name": "python3"
  },
  "language_info": {
   "codemirror_mode": {
    "name": "ipython",
    "version": 3
   },
   "file_extension": ".py",
   "mimetype": "text/x-python",
   "name": "python",
   "nbconvert_exporter": "python",
   "pygments_lexer": "ipython3",
   "version": "3.12.6"
  }
 },
 "nbformat": 4,
 "nbformat_minor": 2
}
